{
  "nbformat": 4,
  "nbformat_minor": 0,
  "metadata": {
    "colab": {
      "name": "vacina.ipynb",
      "provenance": [],
      "collapsed_sections": [],
      "authorship_tag": "ABX9TyPhi004u6eb378pqHkib7Tl",
      "include_colab_link": true
    },
    "kernelspec": {
      "name": "python3",
      "display_name": "Python 3"
    }
  },
  "cells": [
    {
      "cell_type": "markdown",
      "metadata": {
        "id": "view-in-github",
        "colab_type": "text"
      },
      "source": [
        "<a href=\"https://colab.research.google.com/github/doissegundos/COVID-19-World-Vaccination-Progress/blob/main/vacina.ipynb\" target=\"_parent\"><img src=\"https://colab.research.google.com/assets/colab-badge.svg\" alt=\"Open In Colab\"/></a>"
      ]
    },
    {
      "cell_type": "markdown",
      "metadata": {
        "id": "_kHD-SwMSBrR"
      },
      "source": [
        "# Exploração "
      ]
    },
    {
      "cell_type": "markdown",
      "metadata": {
        "id": "1iuruYKoHCoS"
      },
      "source": [
        "https://www.kaggle.com/gpreda/covid-world-vaccination-progress/code\n"
      ]
    },
    {
      "cell_type": "markdown",
      "metadata": {
        "id": "Kev-hkYmRT9f"
      },
      "source": [
        "Bibliotecas utilizadas"
      ]
    },
    {
      "cell_type": "code",
      "metadata": {
        "id": "GNx396_BRL7f"
      },
      "source": [
        "from google.colab import drive\n",
        "import numpy as np\n",
        "import cv2\n",
        "import os\n",
        "import matplotlib.pyplot as plt\n",
        "import csv\n",
        "import pandas as pd\n",
        "import matplotlib.pyplot as plt\n",
        "import seaborn as sns"
      ],
      "execution_count": null,
      "outputs": []
    },
    {
      "cell_type": "markdown",
      "metadata": {
        "id": "rVd5YEnTRif5"
      },
      "source": [
        "Importando o dataset do drive"
      ]
    },
    {
      "cell_type": "code",
      "metadata": {
        "id": "nn2k905MRWt8"
      },
      "source": [
        "df = pd.read_csv('https://raw.githubusercontent.com/doissegundos/COVID-19-World-Vaccination-Progress/main/country_vaccinations.csv')"
      ],
      "execution_count": null,
      "outputs": []
    },
    {
      "cell_type": "markdown",
      "metadata": {
        "id": "N4WW-l4ARv0Y"
      },
      "source": [
        "Visualizando as 7 primeiras instancias do dataset"
      ]
    },
    {
      "cell_type": "code",
      "metadata": {
        "id": "9rVHD81bRhXn",
        "colab": {
          "base_uri": "https://localhost:8080/",
          "height": 575
        },
        "outputId": "381d5bb8-21ed-4394-dc8f-cc28b4aac772"
      },
      "source": [
        "print('Quantidade de instâncias: {}\\nQuantidade de atributos: {}\\n'.format(len(df), len(df.columns)))\n",
        "df[0:7]"
      ],
      "execution_count": null,
      "outputs": [
        {
          "output_type": "stream",
          "text": [
            "Quantidade de instâncias: 8451\n",
            "Quantidade de atributos: 15\n",
            "\n"
          ],
          "name": "stdout"
        },
        {
          "output_type": "execute_result",
          "data": {
            "text/html": [
              "<div>\n",
              "<style scoped>\n",
              "    .dataframe tbody tr th:only-of-type {\n",
              "        vertical-align: middle;\n",
              "    }\n",
              "\n",
              "    .dataframe tbody tr th {\n",
              "        vertical-align: top;\n",
              "    }\n",
              "\n",
              "    .dataframe thead th {\n",
              "        text-align: right;\n",
              "    }\n",
              "</style>\n",
              "<table border=\"1\" class=\"dataframe\">\n",
              "  <thead>\n",
              "    <tr style=\"text-align: right;\">\n",
              "      <th></th>\n",
              "      <th>country</th>\n",
              "      <th>iso_code</th>\n",
              "      <th>date</th>\n",
              "      <th>total_vaccinations</th>\n",
              "      <th>people_vaccinated</th>\n",
              "      <th>people_fully_vaccinated</th>\n",
              "      <th>daily_vaccinations_raw</th>\n",
              "      <th>daily_vaccinations</th>\n",
              "      <th>total_vaccinations_per_hundred</th>\n",
              "      <th>people_vaccinated_per_hundred</th>\n",
              "      <th>people_fully_vaccinated_per_hundred</th>\n",
              "      <th>daily_vaccinations_per_million</th>\n",
              "      <th>vaccines</th>\n",
              "      <th>source_name</th>\n",
              "      <th>source_website</th>\n",
              "    </tr>\n",
              "  </thead>\n",
              "  <tbody>\n",
              "    <tr>\n",
              "      <th>0</th>\n",
              "      <td>Afghanistan</td>\n",
              "      <td>AFG</td>\n",
              "      <td>2021-02-22</td>\n",
              "      <td>0.0</td>\n",
              "      <td>0.0</td>\n",
              "      <td>NaN</td>\n",
              "      <td>NaN</td>\n",
              "      <td>NaN</td>\n",
              "      <td>0.00</td>\n",
              "      <td>0.00</td>\n",
              "      <td>NaN</td>\n",
              "      <td>NaN</td>\n",
              "      <td>Oxford/AstraZeneca</td>\n",
              "      <td>Government of Afghanistan</td>\n",
              "      <td>http://www.xinhuanet.com/english/asiapacific/2...</td>\n",
              "    </tr>\n",
              "    <tr>\n",
              "      <th>1</th>\n",
              "      <td>Afghanistan</td>\n",
              "      <td>AFG</td>\n",
              "      <td>2021-02-23</td>\n",
              "      <td>NaN</td>\n",
              "      <td>NaN</td>\n",
              "      <td>NaN</td>\n",
              "      <td>NaN</td>\n",
              "      <td>1367.0</td>\n",
              "      <td>NaN</td>\n",
              "      <td>NaN</td>\n",
              "      <td>NaN</td>\n",
              "      <td>35.0</td>\n",
              "      <td>Oxford/AstraZeneca</td>\n",
              "      <td>Government of Afghanistan</td>\n",
              "      <td>http://www.xinhuanet.com/english/asiapacific/2...</td>\n",
              "    </tr>\n",
              "    <tr>\n",
              "      <th>2</th>\n",
              "      <td>Afghanistan</td>\n",
              "      <td>AFG</td>\n",
              "      <td>2021-02-24</td>\n",
              "      <td>NaN</td>\n",
              "      <td>NaN</td>\n",
              "      <td>NaN</td>\n",
              "      <td>NaN</td>\n",
              "      <td>1367.0</td>\n",
              "      <td>NaN</td>\n",
              "      <td>NaN</td>\n",
              "      <td>NaN</td>\n",
              "      <td>35.0</td>\n",
              "      <td>Oxford/AstraZeneca</td>\n",
              "      <td>Government of Afghanistan</td>\n",
              "      <td>http://www.xinhuanet.com/english/asiapacific/2...</td>\n",
              "    </tr>\n",
              "    <tr>\n",
              "      <th>3</th>\n",
              "      <td>Afghanistan</td>\n",
              "      <td>AFG</td>\n",
              "      <td>2021-02-25</td>\n",
              "      <td>NaN</td>\n",
              "      <td>NaN</td>\n",
              "      <td>NaN</td>\n",
              "      <td>NaN</td>\n",
              "      <td>1367.0</td>\n",
              "      <td>NaN</td>\n",
              "      <td>NaN</td>\n",
              "      <td>NaN</td>\n",
              "      <td>35.0</td>\n",
              "      <td>Oxford/AstraZeneca</td>\n",
              "      <td>Government of Afghanistan</td>\n",
              "      <td>http://www.xinhuanet.com/english/asiapacific/2...</td>\n",
              "    </tr>\n",
              "    <tr>\n",
              "      <th>4</th>\n",
              "      <td>Afghanistan</td>\n",
              "      <td>AFG</td>\n",
              "      <td>2021-02-26</td>\n",
              "      <td>NaN</td>\n",
              "      <td>NaN</td>\n",
              "      <td>NaN</td>\n",
              "      <td>NaN</td>\n",
              "      <td>1367.0</td>\n",
              "      <td>NaN</td>\n",
              "      <td>NaN</td>\n",
              "      <td>NaN</td>\n",
              "      <td>35.0</td>\n",
              "      <td>Oxford/AstraZeneca</td>\n",
              "      <td>Government of Afghanistan</td>\n",
              "      <td>http://www.xinhuanet.com/english/asiapacific/2...</td>\n",
              "    </tr>\n",
              "    <tr>\n",
              "      <th>5</th>\n",
              "      <td>Afghanistan</td>\n",
              "      <td>AFG</td>\n",
              "      <td>2021-02-27</td>\n",
              "      <td>NaN</td>\n",
              "      <td>NaN</td>\n",
              "      <td>NaN</td>\n",
              "      <td>NaN</td>\n",
              "      <td>1367.0</td>\n",
              "      <td>NaN</td>\n",
              "      <td>NaN</td>\n",
              "      <td>NaN</td>\n",
              "      <td>35.0</td>\n",
              "      <td>Oxford/AstraZeneca</td>\n",
              "      <td>Government of Afghanistan</td>\n",
              "      <td>http://www.xinhuanet.com/english/asiapacific/2...</td>\n",
              "    </tr>\n",
              "    <tr>\n",
              "      <th>6</th>\n",
              "      <td>Afghanistan</td>\n",
              "      <td>AFG</td>\n",
              "      <td>2021-02-28</td>\n",
              "      <td>8200.0</td>\n",
              "      <td>8200.0</td>\n",
              "      <td>NaN</td>\n",
              "      <td>NaN</td>\n",
              "      <td>1367.0</td>\n",
              "      <td>0.02</td>\n",
              "      <td>0.02</td>\n",
              "      <td>NaN</td>\n",
              "      <td>35.0</td>\n",
              "      <td>Oxford/AstraZeneca</td>\n",
              "      <td>Government of Afghanistan</td>\n",
              "      <td>http://www.xinhuanet.com/english/asiapacific/2...</td>\n",
              "    </tr>\n",
              "  </tbody>\n",
              "</table>\n",
              "</div>"
            ],
            "text/plain": [
              "       country  ...                                     source_website\n",
              "0  Afghanistan  ...  http://www.xinhuanet.com/english/asiapacific/2...\n",
              "1  Afghanistan  ...  http://www.xinhuanet.com/english/asiapacific/2...\n",
              "2  Afghanistan  ...  http://www.xinhuanet.com/english/asiapacific/2...\n",
              "3  Afghanistan  ...  http://www.xinhuanet.com/english/asiapacific/2...\n",
              "4  Afghanistan  ...  http://www.xinhuanet.com/english/asiapacific/2...\n",
              "5  Afghanistan  ...  http://www.xinhuanet.com/english/asiapacific/2...\n",
              "6  Afghanistan  ...  http://www.xinhuanet.com/english/asiapacific/2...\n",
              "\n",
              "[7 rows x 15 columns]"
            ]
          },
          "metadata": {
            "tags": []
          },
          "execution_count": 3
        }
      ]
    },
    {
      "cell_type": "markdown",
      "metadata": {
        "id": "0dp4GK_yUHv-"
      },
      "source": [
        "Cada coluna do Dataset representa uma pergunta da pesquisa"
      ]
    },
    {
      "cell_type": "code",
      "metadata": {
        "id": "HdjJxPF6RyST",
        "colab": {
          "base_uri": "https://localhost:8080/"
        },
        "outputId": "548bd2fc-25a3-4052-de03-d7a0a93950e0"
      },
      "source": [
        "df.info()"
      ],
      "execution_count": null,
      "outputs": [
        {
          "output_type": "stream",
          "text": [
            "<class 'pandas.core.frame.DataFrame'>\n",
            "RangeIndex: 8451 entries, 0 to 8450\n",
            "Data columns (total 15 columns):\n",
            " #   Column                               Non-Null Count  Dtype  \n",
            "---  ------                               --------------  -----  \n",
            " 0   country                              8451 non-null   object \n",
            " 1   iso_code                             8451 non-null   object \n",
            " 2   date                                 8451 non-null   object \n",
            " 3   total_vaccinations                   5231 non-null   float64\n",
            " 4   people_vaccinated                    4688 non-null   float64\n",
            " 5   people_fully_vaccinated              3186 non-null   float64\n",
            " 6   daily_vaccinations_raw               4415 non-null   float64\n",
            " 7   daily_vaccinations                   8260 non-null   float64\n",
            " 8   total_vaccinations_per_hundred       5231 non-null   float64\n",
            " 9   people_vaccinated_per_hundred        4688 non-null   float64\n",
            " 10  people_fully_vaccinated_per_hundred  3186 non-null   float64\n",
            " 11  daily_vaccinations_per_million       8260 non-null   float64\n",
            " 12  vaccines                             8451 non-null   object \n",
            " 13  source_name                          8451 non-null   object \n",
            " 14  source_website                       8451 non-null   object \n",
            "dtypes: float64(9), object(6)\n",
            "memory usage: 990.5+ KB\n"
          ],
          "name": "stdout"
        }
      ]
    },
    {
      "cell_type": "markdown",
      "metadata": {
        "id": "VJ2Cz3_q81QI"
      },
      "source": [
        "##### Paises que estão nesse dataset"
      ]
    },
    {
      "cell_type": "code",
      "metadata": {
        "id": "IcjgQavU8oL4"
      },
      "source": [
        "df[\"country\"] = df[\"country\"].astype('str') #converte as instancias para o tipo str\n",
        "data = df[\"country\"]"
      ],
      "execution_count": null,
      "outputs": []
    },
    {
      "cell_type": "code",
      "metadata": {
        "id": "P8FsclU38oPk"
      },
      "source": [
        "data = data.value_counts().to_frame().reset_index()\n",
        "paises = list(data['index'])\n",
        "paises_qauntidade_dias = list(data['country'])"
      ],
      "execution_count": null,
      "outputs": []
    },
    {
      "cell_type": "code",
      "metadata": {
        "colab": {
          "base_uri": "https://localhost:8080/"
        },
        "id": "t8gXvlOv8oUD",
        "outputId": "febbcaaa-8b07-4f3e-dd5c-54d57fcdcfcb"
      },
      "source": [
        "print(\"Quantidade de paises: \"+ str(len(paises)))\n",
        "print(\"Os paises são: \")\n",
        "#paises"
      ],
      "execution_count": null,
      "outputs": [
        {
          "output_type": "stream",
          "text": [
            "Quantidade de paises: 154\n",
            "Os paises são: \n"
          ],
          "name": "stdout"
        }
      ]
    },
    {
      "cell_type": "markdown",
      "metadata": {
        "id": "drbSvcLm_ZM7"
      },
      "source": [
        "##### Total de vacinação por pais"
      ]
    },
    {
      "cell_type": "code",
      "metadata": {
        "id": "SzQWgNfh8odV"
      },
      "source": [
        "pais = \"United States\"\n",
        "country = df[df.country == pais]"
      ],
      "execution_count": null,
      "outputs": []
    },
    {
      "cell_type": "markdown",
      "metadata": {
        "id": "ci5kw_qELM5w"
      },
      "source": [
        "Numero de vacinas aplicadas no pais"
      ]
    },
    {
      "cell_type": "code",
      "metadata": {
        "id": "ATuLLVLXIsmn"
      },
      "source": [
        "total_vac = country['total_vaccinations'].value_counts().to_frame().reset_index()\n",
        "numero_vacinas_aplicadas = total_vac['index'].sum()"
      ],
      "execution_count": null,
      "outputs": []
    },
    {
      "cell_type": "code",
      "metadata": {
        "id": "GBn6nUxsA8C0"
      },
      "source": [
        "# pessoas vacinadas people_vaccinated\n",
        "# pessoas totalmente vacinadas people_fully_vaccinated\n",
        "# vacinas diarias daily_vaccinations"
      ],
      "execution_count": null,
      "outputs": []
    },
    {
      "cell_type": "markdown",
      "metadata": {
        "id": "aF-J7TsiBc3S"
      },
      "source": [
        "Pessoas vacinadas"
      ]
    },
    {
      "cell_type": "code",
      "metadata": {
        "id": "9gqMLNlFBmFu"
      },
      "source": [
        "data_people_vac = pd.DataFrame(columns = ['Pessoas_Vacinadas', 'Mês_Vacinação'] )\n",
        "country_people_vac = country.query(\"people_vaccinated != 'nan'\")\n",
        "\n",
        "#Recenbendo o total de pessoas vacinadas\n",
        "data_people_vac['Pessoas_Vacinadas'] = country_people_vac['people_vaccinated']"
      ],
      "execution_count": 84,
      "outputs": []
    },
    {
      "cell_type": "code",
      "metadata": {
        "id": "Q_2hqWH9Jnq3"
      },
      "source": [
        "#Identifica em qual mês as pessoas foram vacinadas\n",
        "mes_  = pd.to_datetime(country_people_vac['date'], format='%Y-%m-%d')\n",
        "mes_ = list(mes_.dt.month)\n",
        "mes = []\n",
        "for i in range(len(mes_)):\n",
        "  if(mes_[i] == 12):\n",
        "    mes.append(\"Dezembro\")\n",
        "  elif(mes_[i] == 1):\n",
        "    mes.append(\"Janeiro\")\n",
        "  elif(mes_[i] == 2):\n",
        "    mes.append(\"Fevereiro\")\n",
        "  elif(mes_[i] == 3):\n",
        "    mes.append(\"Março\")\n",
        "    \n",
        "data_people_vac[\"Mês_Vacinação\"] = mes"
      ],
      "execution_count": 87,
      "outputs": []
    },
    {
      "cell_type": "code",
      "metadata": {
        "colab": {
          "base_uri": "https://localhost:8080/",
          "height": 310
        },
        "id": "uKj9JTckFRbq",
        "outputId": "ebb40c0e-ae81-45af-ba92-927218451edb"
      },
      "source": [
        "tam = len(data_people_vac['Pessoas_Vacinadas'])\n",
        "sns.lineplot(data = data_people_vac, x='Mês_Vacinação', y=\"Pessoas_Vacinadas\")\n",
        "plt.suptitle('Total de pessoas vacinadas por mês') \n",
        "plt.title('Total de pessoas vacinadas no total: ' + str(int(list(data_people_vac['Pessoas_Vacinadas'])[tam-1])))\n",
        "plt.show()"
      ],
      "execution_count": 111,
      "outputs": [
        {
          "output_type": "display_data",
          "data": {
            "image/png": "[encoded data removed]",
            "text/plain": [
              "<Figure size 432x288 with 1 Axes>"
            ]
          },
          "metadata": {
            "tags": []
          }
        }
      ]
    },
    {
      "cell_type": "markdown",
      "metadata": {
        "id": "wb6iZGcyOx1Z"
      },
      "source": [
        "Pessoas totalmente vacinadas (Com as duas doses da vacina)"
      ]
    },
    {
      "cell_type": "code",
      "metadata": {
        "id": "QhCn-pAgOx1b"
      },
      "source": [
        "data_people_vac_t = pd.DataFrame(columns = ['Pessoas_Totalmente_Vacinadas', 'Mês_Vacinação'] )\n",
        "country_people_vac = country.query(\"people_fully_vaccinated != 'nan'\")\n",
        "\n",
        "#Recenbendo o total de pessoas vacinadas\n",
        "data_people_vac_t['Pessoas_Totalmente_Vacinadas'] = country_people_vac['people_fully_vaccinated']"
      ],
      "execution_count": 118,
      "outputs": []
    },
    {
      "cell_type": "code",
      "metadata": {
        "id": "VHPJ8f7rOx1c"
      },
      "source": [
        "#Identifica em qual mês as pessoas foram vacinadas\n",
        "mes_  = pd.to_datetime(country_people_vac['date'], format='%Y-%m-%d')\n",
        "mes_ = list(mes_.dt.month)\n",
        "mes = []\n",
        "for i in range(len(mes_)):\n",
        "  if(mes_[i] == 12):\n",
        "    mes.append(\"Dezembro\")\n",
        "  elif(mes_[i] == 1):\n",
        "    mes.append(\"Janeiro\")\n",
        "  elif(mes_[i] == 2):\n",
        "    mes.append(\"Fevereiro\")\n",
        "  elif(mes_[i] == 3):\n",
        "    mes.append(\"Março\")\n",
        "\n",
        "data_people_vac_t[\"Mês_Vacinação\"] = mes"
      ],
      "execution_count": 120,
      "outputs": []
    },
    {
      "cell_type": "code",
      "metadata": {
        "colab": {
          "base_uri": "https://localhost:8080/",
          "height": 310
        },
        "id": "1SlS7HhQOx1c",
        "outputId": "ba093047-3c5c-4337-e52d-684838325c97"
      },
      "source": [
        "tam = len(data_people_vac_t['Pessoas_Totalmente_Vacinadas'])\n",
        "sns.lineplot(data = data_people_vac_t, x='Mês_Vacinação', y=\"Pessoas_Totalmente_Vacinadas\")\n",
        "plt.suptitle('Total de pessoas totalmente vacinadas por mês') \n",
        "plt.title('Total de pessoas totalmente vacinadas: ' + str(int(list(data_people_vac_t['Pessoas_Totalmente_Vacinadas'])[tam-1])))\n",
        "plt.show()"
      ],
      "execution_count": 123,
      "outputs": [
        {
          "output_type": "display_data",
          "data": {
            "image/png": "[encoded data removed]",
            "text/plain": [
              "<Figure size 432x288 with 1 Axes>"
            ]
          },
          "metadata": {
            "tags": []
          }
        }
      ]
    },
    {
      "cell_type": "markdown",
      "metadata": {
        "id": "ISOMi8RbR0_t"
      },
      "source": [
        "Vácinas diárias aplicadas organizadas por mês"
      ]
    },
    {
      "cell_type": "code",
      "metadata": {
        "id": "MzHwPZMUR5SV"
      },
      "source": [
        "data_vac_day = pd.DataFrame(columns = ['Vacinas_Aplicadas_Por_Dia', 'Mês_Vacinação'] )\n",
        "country_vac_day = country.query(\"daily_vaccinations != 'nan'\")\n",
        "\n",
        "#Recenbendo o total de pessoas vacinadas\n",
        "data_vac_day['Vacinas_Aplicadas_Por_Dia'] = country_vac_day['daily_vaccinations']"
      ],
      "execution_count": 195,
      "outputs": []
    },
    {
      "cell_type": "code",
      "metadata": {
        "id": "z_6mG0euR5Sl"
      },
      "source": [
        "#Identifica em qual mês as pessoas foram vacinadas\n",
        "mes_  = pd.to_datetime(country_vac_day['date'], format='%Y-%m-%d')\n",
        "mes_ = list(mes_.dt.month)\n",
        "mes = []\n",
        "for i in range(len(mes_)):\n",
        "  if(mes_[i] == 12):\n",
        "    mes.append(\"Dezembro\")\n",
        "  elif(mes_[i] == 1):\n",
        "    mes.append(\"Janeiro\")\n",
        "  elif(mes_[i] == 2):\n",
        "    mes.append(\"Fevereiro\")\n",
        "  elif(mes_[i] == 3):\n",
        "    mes.append(\"Março\")\n",
        "\n",
        "data_vac_day[\"Mês_Vacinação\"] = mes"
      ],
      "execution_count": 196,
      "outputs": []
    },
    {
      "cell_type": "code",
      "metadata": {
        "colab": {
          "base_uri": "https://localhost:8080/",
          "height": 313
        },
        "id": "RF3C753xR5Sl",
        "outputId": "bde7f394-f1ec-4bff-f5bd-45628199cef3"
      },
      "source": [
        "tam = len(data_vac_day['Vacinas_Aplicadas_Por_Dia'])\n",
        "sns.lineplot(data =data_vac_day, x='Mês_Vacinação', y=\"Vacinas_Aplicadas_Por_Dia\")\n",
        "plt.suptitle('Total de vacinas aplicadas por mês') \n",
        "plt.title('Total de vacinas aplicadas: ' + str(data_vac_day['Vacinas_Aplicadas_Por_Dia'].sum()))\n",
        "plt.show()"
      ],
      "execution_count": 197,
      "outputs": [
        {
          "output_type": "display_data",
          "data": {
            "image/png": "[encoded data removed]",
            "text/plain": [
              "<Figure size 432x288 with 1 Axes>"
            ]
          },
          "metadata": {
            "tags": []
          }
        }
      ]
    },
    {
      "cell_type": "markdown",
      "metadata": {
        "id": "D3DaDv1oLbPK"
      },
      "source": [
        "Dias de vacinação por mês"
      ]
    },
    {
      "cell_type": "code",
      "metadata": {
        "colab": {
          "base_uri": "https://localhost:8080/"
        },
        "id": "2Wq7mk0PV5Ey",
        "outputId": "8d216a0e-a8ef-4551-a396-9851430873b8"
      },
      "source": [
        "mes = 2\n",
        "data_vac_day_mes = pd.DataFrame(columns = ['Vacinas_Aplicadas_Por_Dia', 'Dia_Vacinação'] )\n",
        "country_vac_day = country.query(\"daily_vaccinations != 'nan'\")\n",
        "country_vac_day['date'] = pd.to_datetime(country_vac_day['date'], format='%Y-%m-%d')\n",
        "country_vac_day = country_vac_day[country_vac_day.date.dt.month == mes]\n",
        "\n",
        "#Recenbendo o total de pessoas vacinadas\n",
        "data_vac_day_mes['Vacinas_Aplicadas_Por_Dia'] = country_vac_day['daily_vaccinations']\n",
        "data_vac_day_mes['Dia_Vacinação'] = list(country_vac_day.date.dt.day)\n"
      ],
      "execution_count": 201,
      "outputs": [
        {
          "output_type": "stream",
          "text": [
            "/usr/local/lib/python3.7/dist-packages/ipykernel_launcher.py:4: SettingWithCopyWarning: \n",
            "A value is trying to be set on a copy of a slice from a DataFrame.\n",
            "Try using .loc[row_indexer,col_indexer] = value instead\n",
            "\n",
            "See the caveats in the documentation: https://pandas.pydata.org/pandas-docs/stable/user_guide/indexing.html#returning-a-view-versus-a-copy\n",
            "  after removing the cwd from sys.path.\n"
          ],
          "name": "stderr"
        }
      ]
    },
    {
      "cell_type": "code",
      "metadata": {
        "colab": {
          "base_uri": "https://localhost:8080/",
          "height": 313
        },
        "id": "6px_cL2QV5E0",
        "outputId": "eb6462b4-f533-4f65-9e94-b3328725ea31"
      },
      "source": [
        "tam = len(data_vac_day_mes['Vacinas_Aplicadas_Por_Dia'])\n",
        "sns.lineplot(data =data_vac_day_mes, x='Dia_Vacinação', y=\"Vacinas_Aplicadas_Por_Dia\")\n",
        "plt.suptitle('Total de vacinas aplicadas por mês') \n",
        "plt.title('Total de vacinas aplicadas: ' + str(data_vac_day_mes['Vacinas_Aplicadas_Por_Dia'].sum()))\n",
        "plt.show()"
      ],
      "execution_count": 203,
      "outputs": [
        {
          "output_type": "display_data",
          "data": {
            "image/png": "[encoded data removed]",
            "text/plain": [
              "<Figure size 432x288 with 1 Axes>"
            ]
          },
          "metadata": {
            "tags": []
          }
        }
      ]
    },
    {
      "cell_type": "markdown",
      "metadata": {
        "id": "0c-6v-iqcdV3"
      },
      "source": [
        "Dias de vacinação por mês, outra vizualização"
      ]
    },
    {
      "cell_type": "code",
      "metadata": {
        "id": "ZNqJS0AN8ogN"
      },
      "source": [
        "dias_vac = country.query(\"daily_vaccinations != 'nan' & date != 'nan'\")"
      ],
      "execution_count": 204,
      "outputs": []
    },
    {
      "cell_type": "code",
      "metadata": {
        "colab": {
          "base_uri": "https://localhost:8080/"
        },
        "id": "cougXS-MNeFN",
        "outputId": "d460e306-5fc4-4a35-a671-3dd25b2b65ba"
      },
      "source": [
        "mes = 3\n",
        "dias_vac['date'] = pd.to_datetime(dias_vac['date'], format='%Y-%m-%d')\n",
        "mes_vac = dias_vac[dias_vac.date.dt.month == mes]"
      ],
      "execution_count": 205,
      "outputs": [
        {
          "output_type": "stream",
          "text": [
            "/usr/local/lib/python3.7/dist-packages/ipykernel_launcher.py:2: SettingWithCopyWarning: \n",
            "A value is trying to be set on a copy of a slice from a DataFrame.\n",
            "Try using .loc[row_indexer,col_indexer] = value instead\n",
            "\n",
            "See the caveats in the documentation: https://pandas.pydata.org/pandas-docs/stable/user_guide/indexing.html#returning-a-view-versus-a-copy\n",
            "  \n"
          ],
          "name": "stderr"
        }
      ]
    },
    {
      "cell_type": "code",
      "metadata": {
        "id": "UyMy40y4TYWV"
      },
      "source": [
        "mes_vac\n",
        "vaccines = mes_vac['vaccines'].value_counts().to_frame().reset_index()\n",
        "vaccines = list(vaccines['index'])\n",
        "\n",
        "source_website = mes_vac['source_website'].value_counts().to_frame().reset_index()\n",
        "source_website = list(source_website['index'])"
      ],
      "execution_count": 206,
      "outputs": []
    },
    {
      "cell_type": "code",
      "metadata": {
        "id": "BZqWw0I7RFPj"
      },
      "source": [
        "f_label = list(mes_vac.date.dt.day)"
      ],
      "execution_count": 207,
      "outputs": []
    },
    {
      "cell_type": "code",
      "metadata": {
        "id": "kUpH5C7I8ojh",
        "colab": {
          "base_uri": "https://localhost:8080/",
          "height": 283
        },
        "outputId": "efbd0b73-288f-4b90-b577-1a4538db99cc"
      },
      "source": [
        "sns.set_theme(style=\"whitegrid\")\n",
        "plt.figure(figsize=(8, 4))\n",
        "sns.barplot(x=f_label, y=\"daily_vaccinations\", data = mes_vac, palette=\"ch:s=.25,rot=-.25\")\n",
        "plt.title('Total de vacinas aplicadas por dia no mês') \n",
        "plt.show()"
      ],
      "execution_count": 208,
      "outputs": [
        {
          "output_type": "display_data",
          "data": {
            "image/png": "[encoded data removed]",
            "text/plain": [
              "<Figure size 576x288 with 1 Axes>"
            ]
          },
          "metadata": {
            "tags": []
          }
        }
      ]
    },
    {
      "cell_type": "code",
      "metadata": {
        "id": "IJPTW0QAVCMp"
      },
      "source": [
        ""
      ],
      "execution_count": 154,
      "outputs": []
    }
  ]
}