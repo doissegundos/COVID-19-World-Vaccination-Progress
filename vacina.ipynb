{
  "nbformat": 4,
  "nbformat_minor": 0,
  "metadata": {
    "colab": {
      "name": "vacina.ipynb",
      "provenance": [],
      "collapsed_sections": [],
      "authorship_tag": "ABX9TyMCxUt7V+PxUPHG8/vM3CFo",
      "include_colab_link": true
    },
    "kernelspec": {
      "name": "python3",
      "display_name": "Python 3"
    }
  },
  "cells": [
    {
      "cell_type": "markdown",
      "metadata": {
        "id": "view-in-github",
        "colab_type": "text"
      },
      "source": [
        "<a href=\"https://colab.research.google.com/github/doissegundos/COVID-19-World-Vaccination-Progress/blob/main/vacina.ipynb\" target=\"_parent\"><img src=\"https://colab.research.google.com/assets/colab-badge.svg\" alt=\"Open In Colab\"/></a>"
      ]
    },
    {
      "cell_type": "markdown",
      "metadata": {
        "id": "_kHD-SwMSBrR"
      },
      "source": [
        "# Exploração "
      ]
    },
    {
      "cell_type": "markdown",
      "metadata": {
        "id": "1iuruYKoHCoS"
      },
      "source": [
        "https://www.kaggle.com/gpreda/covid-world-vaccination-progress/code\n"
      ]
    },
    {
      "cell_type": "markdown",
      "metadata": {
        "id": "Kev-hkYmRT9f"
      },
      "source": [
        "Bibliotecas utilizadas"
      ]
    },
    {
      "cell_type": "code",
      "metadata": {
        "id": "GNx396_BRL7f"
      },
      "source": [
        "from google.colab import drive\n",
        "import numpy as np\n",
        "import cv2\n",
        "import os\n",
        "import matplotlib.pyplot as plt\n",
        "import csv\n",
        "import pandas as pd\n",
        "import matplotlib.pyplot as plt\n",
        "import seaborn as sns"
      ],
      "execution_count": 156,
      "outputs": []
    },
    {
      "cell_type": "markdown",
      "metadata": {
        "id": "rVd5YEnTRif5"
      },
      "source": [
        "Importando o dataset do drive"
      ]
    },
    {
      "cell_type": "code",
      "metadata": {
        "id": "nn2k905MRWt8"
      },
      "source": [
        "df = pd.read_csv('https://raw.githubusercontent.com/doissegundos/COVID-19-World-Vaccination-Progress/main/country_vaccinations.csv')"
      ],
      "execution_count": 157,
      "outputs": []
    },
    {
      "cell_type": "markdown",
      "metadata": {
        "id": "N4WW-l4ARv0Y"
      },
      "source": [
        "Visualizando as 7 primeiras instancias do dataset"
      ]
    },
    {
      "cell_type": "code",
      "metadata": {
        "id": "9rVHD81bRhXn",
        "colab": {
          "base_uri": "https://localhost:8080/",
          "height": 575
        },
        "outputId": "e4f6a9b3-6e96-4cb8-a4f3-f59f9147af3a"
      },
      "source": [
        "print('Quantidade de instâncias: {}\\nQuantidade de atributos: {}\\n'.format(len(df), len(df.columns)))\n",
        "df[0:7]"
      ],
      "execution_count": 158,
      "outputs": [
        {
          "output_type": "stream",
          "text": [
            "Quantidade de instâncias: 8451\n",
            "Quantidade de atributos: 15\n",
            "\n"
          ],
          "name": "stdout"
        },
        {
          "output_type": "execute_result",
          "data": {
            "text/html": [
              "<div>\n",
              "<style scoped>\n",
              "    .dataframe tbody tr th:only-of-type {\n",
              "        vertical-align: middle;\n",
              "    }\n",
              "\n",
              "    .dataframe tbody tr th {\n",
              "        vertical-align: top;\n",
              "    }\n",
              "\n",
              "    .dataframe thead th {\n",
              "        text-align: right;\n",
              "    }\n",
              "</style>\n",
              "<table border=\"1\" class=\"dataframe\">\n",
              "  <thead>\n",
              "    <tr style=\"text-align: right;\">\n",
              "      <th></th>\n",
              "      <th>country</th>\n",
              "      <th>iso_code</th>\n",
              "      <th>date</th>\n",
              "      <th>total_vaccinations</th>\n",
              "      <th>people_vaccinated</th>\n",
              "      <th>people_fully_vaccinated</th>\n",
              "      <th>daily_vaccinations_raw</th>\n",
              "      <th>daily_vaccinations</th>\n",
              "      <th>total_vaccinations_per_hundred</th>\n",
              "      <th>people_vaccinated_per_hundred</th>\n",
              "      <th>people_fully_vaccinated_per_hundred</th>\n",
              "      <th>daily_vaccinations_per_million</th>\n",
              "      <th>vaccines</th>\n",
              "      <th>source_name</th>\n",
              "      <th>source_website</th>\n",
              "    </tr>\n",
              "  </thead>\n",
              "  <tbody>\n",
              "    <tr>\n",
              "      <th>0</th>\n",
              "      <td>Afghanistan</td>\n",
              "      <td>AFG</td>\n",
              "      <td>2021-02-22</td>\n",
              "      <td>0.0</td>\n",
              "      <td>0.0</td>\n",
              "      <td>NaN</td>\n",
              "      <td>NaN</td>\n",
              "      <td>NaN</td>\n",
              "      <td>0.00</td>\n",
              "      <td>0.00</td>\n",
              "      <td>NaN</td>\n",
              "      <td>NaN</td>\n",
              "      <td>Oxford/AstraZeneca</td>\n",
              "      <td>Government of Afghanistan</td>\n",
              "      <td>http://www.xinhuanet.com/english/asiapacific/2...</td>\n",
              "    </tr>\n",
              "    <tr>\n",
              "      <th>1</th>\n",
              "      <td>Afghanistan</td>\n",
              "      <td>AFG</td>\n",
              "      <td>2021-02-23</td>\n",
              "      <td>NaN</td>\n",
              "      <td>NaN</td>\n",
              "      <td>NaN</td>\n",
              "      <td>NaN</td>\n",
              "      <td>1367.0</td>\n",
              "      <td>NaN</td>\n",
              "      <td>NaN</td>\n",
              "      <td>NaN</td>\n",
              "      <td>35.0</td>\n",
              "      <td>Oxford/AstraZeneca</td>\n",
              "      <td>Government of Afghanistan</td>\n",
              "      <td>http://www.xinhuanet.com/english/asiapacific/2...</td>\n",
              "    </tr>\n",
              "    <tr>\n",
              "      <th>2</th>\n",
              "      <td>Afghanistan</td>\n",
              "      <td>AFG</td>\n",
              "      <td>2021-02-24</td>\n",
              "      <td>NaN</td>\n",
              "      <td>NaN</td>\n",
              "      <td>NaN</td>\n",
              "      <td>NaN</td>\n",
              "      <td>1367.0</td>\n",
              "      <td>NaN</td>\n",
              "      <td>NaN</td>\n",
              "      <td>NaN</td>\n",
              "      <td>35.0</td>\n",
              "      <td>Oxford/AstraZeneca</td>\n",
              "      <td>Government of Afghanistan</td>\n",
              "      <td>http://www.xinhuanet.com/english/asiapacific/2...</td>\n",
              "    </tr>\n",
              "    <tr>\n",
              "      <th>3</th>\n",
              "      <td>Afghanistan</td>\n",
              "      <td>AFG</td>\n",
              "      <td>2021-02-25</td>\n",
              "      <td>NaN</td>\n",
              "      <td>NaN</td>\n",
              "      <td>NaN</td>\n",
              "      <td>NaN</td>\n",
              "      <td>1367.0</td>\n",
              "      <td>NaN</td>\n",
              "      <td>NaN</td>\n",
              "      <td>NaN</td>\n",
              "      <td>35.0</td>\n",
              "      <td>Oxford/AstraZeneca</td>\n",
              "      <td>Government of Afghanistan</td>\n",
              "      <td>http://www.xinhuanet.com/english/asiapacific/2...</td>\n",
              "    </tr>\n",
              "    <tr>\n",
              "      <th>4</th>\n",
              "      <td>Afghanistan</td>\n",
              "      <td>AFG</td>\n",
              "      <td>2021-02-26</td>\n",
              "      <td>NaN</td>\n",
              "      <td>NaN</td>\n",
              "      <td>NaN</td>\n",
              "      <td>NaN</td>\n",
              "      <td>1367.0</td>\n",
              "      <td>NaN</td>\n",
              "      <td>NaN</td>\n",
              "      <td>NaN</td>\n",
              "      <td>35.0</td>\n",
              "      <td>Oxford/AstraZeneca</td>\n",
              "      <td>Government of Afghanistan</td>\n",
              "      <td>http://www.xinhuanet.com/english/asiapacific/2...</td>\n",
              "    </tr>\n",
              "    <tr>\n",
              "      <th>5</th>\n",
              "      <td>Afghanistan</td>\n",
              "      <td>AFG</td>\n",
              "      <td>2021-02-27</td>\n",
              "      <td>NaN</td>\n",
              "      <td>NaN</td>\n",
              "      <td>NaN</td>\n",
              "      <td>NaN</td>\n",
              "      <td>1367.0</td>\n",
              "      <td>NaN</td>\n",
              "      <td>NaN</td>\n",
              "      <td>NaN</td>\n",
              "      <td>35.0</td>\n",
              "      <td>Oxford/AstraZeneca</td>\n",
              "      <td>Government of Afghanistan</td>\n",
              "      <td>http://www.xinhuanet.com/english/asiapacific/2...</td>\n",
              "    </tr>\n",
              "    <tr>\n",
              "      <th>6</th>\n",
              "      <td>Afghanistan</td>\n",
              "      <td>AFG</td>\n",
              "      <td>2021-02-28</td>\n",
              "      <td>8200.0</td>\n",
              "      <td>8200.0</td>\n",
              "      <td>NaN</td>\n",
              "      <td>NaN</td>\n",
              "      <td>1367.0</td>\n",
              "      <td>0.02</td>\n",
              "      <td>0.02</td>\n",
              "      <td>NaN</td>\n",
              "      <td>35.0</td>\n",
              "      <td>Oxford/AstraZeneca</td>\n",
              "      <td>Government of Afghanistan</td>\n",
              "      <td>http://www.xinhuanet.com/english/asiapacific/2...</td>\n",
              "    </tr>\n",
              "  </tbody>\n",
              "</table>\n",
              "</div>"
            ],
            "text/plain": [
              "       country  ...                                     source_website\n",
              "0  Afghanistan  ...  http://www.xinhuanet.com/english/asiapacific/2...\n",
              "1  Afghanistan  ...  http://www.xinhuanet.com/english/asiapacific/2...\n",
              "2  Afghanistan  ...  http://www.xinhuanet.com/english/asiapacific/2...\n",
              "3  Afghanistan  ...  http://www.xinhuanet.com/english/asiapacific/2...\n",
              "4  Afghanistan  ...  http://www.xinhuanet.com/english/asiapacific/2...\n",
              "5  Afghanistan  ...  http://www.xinhuanet.com/english/asiapacific/2...\n",
              "6  Afghanistan  ...  http://www.xinhuanet.com/english/asiapacific/2...\n",
              "\n",
              "[7 rows x 15 columns]"
            ]
          },
          "metadata": {
            "tags": []
          },
          "execution_count": 158
        }
      ]
    },
    {
      "cell_type": "markdown",
      "metadata": {
        "id": "0dp4GK_yUHv-"
      },
      "source": [
        "Cada coluna do Dataset representa uma pergunta da pesquisa"
      ]
    },
    {
      "cell_type": "code",
      "metadata": {
        "id": "HdjJxPF6RyST",
        "colab": {
          "base_uri": "https://localhost:8080/"
        },
        "outputId": "72b7a95a-1e4a-4b57-9502-f36cac3fecac"
      },
      "source": [
        "df.info()"
      ],
      "execution_count": 159,
      "outputs": [
        {
          "output_type": "stream",
          "text": [
            "<class 'pandas.core.frame.DataFrame'>\n",
            "RangeIndex: 8451 entries, 0 to 8450\n",
            "Data columns (total 15 columns):\n",
            " #   Column                               Non-Null Count  Dtype  \n",
            "---  ------                               --------------  -----  \n",
            " 0   country                              8451 non-null   object \n",
            " 1   iso_code                             8451 non-null   object \n",
            " 2   date                                 8451 non-null   object \n",
            " 3   total_vaccinations                   5231 non-null   float64\n",
            " 4   people_vaccinated                    4688 non-null   float64\n",
            " 5   people_fully_vaccinated              3186 non-null   float64\n",
            " 6   daily_vaccinations_raw               4415 non-null   float64\n",
            " 7   daily_vaccinations                   8260 non-null   float64\n",
            " 8   total_vaccinations_per_hundred       5231 non-null   float64\n",
            " 9   people_vaccinated_per_hundred        4688 non-null   float64\n",
            " 10  people_fully_vaccinated_per_hundred  3186 non-null   float64\n",
            " 11  daily_vaccinations_per_million       8260 non-null   float64\n",
            " 12  vaccines                             8451 non-null   object \n",
            " 13  source_name                          8451 non-null   object \n",
            " 14  source_website                       8451 non-null   object \n",
            "dtypes: float64(9), object(6)\n",
            "memory usage: 990.5+ KB\n"
          ],
          "name": "stdout"
        }
      ]
    },
    {
      "cell_type": "markdown",
      "metadata": {
        "id": "VJ2Cz3_q81QI"
      },
      "source": [
        "##### Paises que estão nesse dataset"
      ]
    },
    {
      "cell_type": "code",
      "metadata": {
        "id": "IcjgQavU8oL4"
      },
      "source": [
        "df[\"country\"] = df[\"country\"].astype('str') #converte as instancias para o tipo str\n",
        "data = df[\"country\"]"
      ],
      "execution_count": 160,
      "outputs": []
    },
    {
      "cell_type": "code",
      "metadata": {
        "id": "P8FsclU38oPk"
      },
      "source": [
        "data = data.value_counts().to_frame().reset_index()\n",
        "paises = list(data['index'])\n",
        "paises_qauntidade_dias = list(data['country'])"
      ],
      "execution_count": 161,
      "outputs": []
    },
    {
      "cell_type": "code",
      "metadata": {
        "colab": {
          "base_uri": "https://localhost:8080/"
        },
        "id": "t8gXvlOv8oUD",
        "outputId": "51e32a22-3c5d-416a-93f7-af64feb21bd9"
      },
      "source": [
        "print(\"Quantidade de paises: \"+ str(len(paises)))\n",
        "print(\"Os paises são: \")\n",
        "#paises"
      ],
      "execution_count": 164,
      "outputs": [
        {
          "output_type": "stream",
          "text": [
            "Quantidade de paises: 154\n",
            "Os paises são: \n"
          ],
          "name": "stdout"
        }
      ]
    },
    {
      "cell_type": "markdown",
      "metadata": {
        "id": "drbSvcLm_ZM7"
      },
      "source": [
        "##### Total de vacinação por pais"
      ]
    },
    {
      "cell_type": "code",
      "metadata": {
        "id": "SzQWgNfh8odV"
      },
      "source": [
        "pais = \"United States\"\n",
        "country = df[df.country == pais]"
      ],
      "execution_count": 165,
      "outputs": []
    },
    {
      "cell_type": "code",
      "metadata": {
        "colab": {
          "base_uri": "https://localhost:8080/"
        },
        "id": "20t0hgTQJkPV",
        "outputId": "f311e95b-072b-4803-a7ee-52354c953243"
      },
      "source": [
        "country.info()"
      ],
      "execution_count": 166,
      "outputs": [
        {
          "output_type": "stream",
          "text": [
            "<class 'pandas.core.frame.DataFrame'>\n",
            "Int64Index: 98 entries, 8146 to 8243\n",
            "Data columns (total 15 columns):\n",
            " #   Column                               Non-Null Count  Dtype  \n",
            "---  ------                               --------------  -----  \n",
            " 0   country                              98 non-null     object \n",
            " 1   iso_code                             98 non-null     object \n",
            " 2   date                                 98 non-null     object \n",
            " 3   total_vaccinations                   84 non-null     float64\n",
            " 4   people_vaccinated                    83 non-null     float64\n",
            " 5   people_fully_vaccinated              69 non-null     float64\n",
            " 6   daily_vaccinations_raw               74 non-null     float64\n",
            " 7   daily_vaccinations                   97 non-null     float64\n",
            " 8   total_vaccinations_per_hundred       84 non-null     float64\n",
            " 9   people_vaccinated_per_hundred        83 non-null     float64\n",
            " 10  people_fully_vaccinated_per_hundred  69 non-null     float64\n",
            " 11  daily_vaccinations_per_million       97 non-null     float64\n",
            " 12  vaccines                             98 non-null     object \n",
            " 13  source_name                          98 non-null     object \n",
            " 14  source_website                       98 non-null     object \n",
            "dtypes: float64(9), object(6)\n",
            "memory usage: 12.2+ KB\n"
          ],
          "name": "stdout"
        }
      ]
    },
    {
      "cell_type": "markdown",
      "metadata": {
        "id": "ci5kw_qELM5w"
      },
      "source": [
        "Numero de vacinas aplicadas no pais"
      ]
    },
    {
      "cell_type": "code",
      "metadata": {
        "id": "ATuLLVLXIsmn"
      },
      "source": [
        "total_vac = country['total_vaccinations'].value_counts().to_frame().reset_index()\n",
        "numero_vacinas_aplicadas = total_vac['index'].sum()"
      ],
      "execution_count": 168,
      "outputs": []
    },
    {
      "cell_type": "markdown",
      "metadata": {
        "id": "D3DaDv1oLbPK"
      },
      "source": [
        "Dias de vacinação"
      ]
    },
    {
      "cell_type": "code",
      "metadata": {
        "id": "ZNqJS0AN8ogN"
      },
      "source": [
        "dias_vac = country.query(\"daily_vaccinations != 'nan' & date != 'nan'\")"
      ],
      "execution_count": 169,
      "outputs": []
    },
    {
      "cell_type": "code",
      "metadata": {
        "colab": {
          "base_uri": "https://localhost:8080/"
        },
        "id": "cougXS-MNeFN",
        "outputId": "19e3a09b-a052-466d-9946-f6a16e4c56cf"
      },
      "source": [
        "mes = 2\n",
        "dias_vac['date'] = pd.to_datetime(dias_vac['date'], format='%Y-%m-%d')\n",
        "mes_vac = dias_vac[dias_vac.date.dt.month == mes]"
      ],
      "execution_count": 170,
      "outputs": [
        {
          "output_type": "stream",
          "text": [
            "/usr/local/lib/python3.7/dist-packages/ipykernel_launcher.py:2: SettingWithCopyWarning: \n",
            "A value is trying to be set on a copy of a slice from a DataFrame.\n",
            "Try using .loc[row_indexer,col_indexer] = value instead\n",
            "\n",
            "See the caveats in the documentation: https://pandas.pydata.org/pandas-docs/stable/user_guide/indexing.html#returning-a-view-versus-a-copy\n",
            "  \n"
          ],
          "name": "stderr"
        }
      ]
    },
    {
      "cell_type": "code",
      "metadata": {
        "id": "UyMy40y4TYWV"
      },
      "source": [
        "mes_vac\n",
        "vaccines = mes_vac['vaccines'].value_counts().to_frame().reset_index()\n",
        "vaccines = list(vaccines['index'])\n",
        "\n",
        "source_website = mes_vac['source_website'].value_counts().to_frame().reset_index()\n",
        "source_website = list(source_website['index'])"
      ],
      "execution_count": 171,
      "outputs": []
    },
    {
      "cell_type": "code",
      "metadata": {
        "id": "BZqWw0I7RFPj"
      },
      "source": [
        "f_label = list(mes_vac.date.dt.day)"
      ],
      "execution_count": 173,
      "outputs": []
    },
    {
      "cell_type": "code",
      "metadata": {
        "id": "kUpH5C7I8ojh",
        "colab": {
          "base_uri": "https://localhost:8080/",
          "height": 284
        },
        "outputId": "080d92c4-b68b-461e-8295-5fe945d958a8"
      },
      "source": [
        "sns.set_theme(style=\"whitegrid\")\n",
        "plt.figure(figsize=(8, 4))\n",
        "sns.barplot(x=f_label, y=\"daily_vaccinations\", data = mes_vac, palette=\"ch:s=.25,rot=-.25\")\n",
        "plt.title('Total de vacinas aplicadas por dia no mês') \n",
        "plt.show()"
      ],
      "execution_count": 198,
      "outputs": [
        {
          "output_type": "display_data",
          "data": {
            "image/png": "[encoded data removed]",
            "text/plain": [
              "<Figure size 576x288 with 1 Axes>"
            ]
          },
          "metadata": {
            "tags": []
          }
        }
      ]
    },
    {
      "cell_type": "code",
      "metadata": {
        "id": "hTgFJBfOZlGB"
      },
      "source": [
        ""
      ],
      "execution_count": null,
      "outputs": []
    }
  ]
}